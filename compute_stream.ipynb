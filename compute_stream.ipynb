{
 "cells": [
  {
   "cell_type": "code",
   "execution_count": 1,
   "metadata": {},
   "outputs": [],
   "source": [
    "from metric.stream import STREAM\n",
    "\n",
    "stream = STREAM(num_frames=16)\n",
    "\n",
    "real_dir = './data/real/'\n",
    "fake_dir = './data/fake/'"
   ]
  },
  {
   "cell_type": "code",
   "execution_count": 2,
   "metadata": {},
   "outputs": [
    {
     "name": "stdout",
     "output_type": "stream",
     "text": [
      "Calculating Skewness from ./data/real/ ...\n"
     ]
    },
    {
     "data": {
      "application/vnd.jupyter.widget-view+json": {
       "model_id": "e6be746655e94869aecd719f4d8d0ebb",
       "version_major": 2,
       "version_minor": 0
      },
      "text/plain": [
       "  0%|          | 0/64 [00:00<?, ?it/s]"
      ]
     },
     "metadata": {},
     "output_type": "display_data"
    },
    {
     "name": "stdout",
     "output_type": "stream",
     "text": [
      "Calculating Skewness from ./data/fake/ ...\n"
     ]
    },
    {
     "data": {
      "application/vnd.jupyter.widget-view+json": {
       "model_id": "a92495ec7c2041f5aa0239a9ea209b39",
       "version_major": 2,
       "version_minor": 0
      },
      "text/plain": [
       "  0%|          | 0/64 [00:00<?, ?it/s]"
      ]
     },
     "metadata": {},
     "output_type": "display_data"
    }
   ],
   "source": [
    "real_skewness, real_mean_signal = stream.calculate_skewness(real_dir, 'cuda')\n",
    "fake_skewness, fake_mean_signal = stream.calculate_skewness(fake_dir, 'cuda')"
   ]
  },
  {
   "cell_type": "code",
   "execution_count": 3,
   "metadata": {},
   "outputs": [
    {
     "name": "stdout",
     "output_type": "stream",
     "text": [
      "STREAM-T : 0.9841273473940291\n"
     ]
    }
   ],
   "source": [
    "stream_T = stream.stream_T(real_skewness, fake_skewness)\n",
    "\n",
    "print('STREAM-T :', stream_T)"
   ]
  },
  {
   "cell_type": "code",
   "execution_count": 4,
   "metadata": {},
   "outputs": [
    {
     "name": "stdout",
     "output_type": "stream",
     "text": [
      "Num real: 1024 Num fake: 1024\n",
      "STREAM-F : 0.998046875\n",
      "STREAM-D : 0.998046875\n"
     ]
    }
   ],
   "source": [
    "stream_S = stream.stream_S(real_mean_signal, fake_mean_signal)\n",
    "\n",
    "stream_F = stream_S['stream_F']\n",
    "stream_D = stream_S['stream_D']\n",
    "\n",
    "print('STREAM-F :', stream_F)\n",
    "print('STREAM-D :', stream_D)"
   ]
  }
 ],
 "metadata": {
  "kernelspec": {
   "display_name": "py310",
   "language": "python",
   "name": "python3"
  },
  "language_info": {
   "codemirror_mode": {
    "name": "ipython",
    "version": 3
   },
   "file_extension": ".py",
   "mimetype": "text/x-python",
   "name": "python",
   "nbconvert_exporter": "python",
   "pygments_lexer": "ipython3",
   "version": "3.10.9"
  }
 },
 "nbformat": 4,
 "nbformat_minor": 2
}
